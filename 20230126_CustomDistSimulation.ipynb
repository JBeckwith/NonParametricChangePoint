{
 "cells": [
  {
   "cell_type": "code",
   "execution_count": 1,
   "id": "f72ee7ce",
   "metadata": {},
   "outputs": [
    {
     "data": {
      "text/html": [
       "<style>.container { width:100% !important; }</style>"
      ],
      "text/plain": [
       "<IPython.core.display.HTML object>"
      ]
     },
     "metadata": {},
     "output_type": "display_data"
    }
   ],
   "source": [
    "from IPython.display import display, HTML\n",
    "display(HTML(\"<style>.container { width:100% !important; }</style>\")) # this increases width to full screen"
   ]
  },
  {
   "cell_type": "code",
   "execution_count": 17,
   "id": "b28b5294",
   "metadata": {},
   "outputs": [],
   "source": [
    "import numpy as np # import numerical python\n",
    "import scipy as sp # import scientific python\n",
    "import matplotlib.pyplot as plt # import plotting functions\n",
    "import seaborn as sns # import nicer plotting functions\n",
    "import pandas as pd # import pandas to import data\n",
    "import xarray as xr\n",
    "import os # import os to make filenames etc\n",
    "from copy import deepcopy # import for copying\n",
    "from scipy.special import erf # need error function for distribution\n",
    "\n",
    "import seaborn as sns\n",
    "import scipy.stats as stats\n",
    "import warnings\n",
    "\n",
    "from pylab import *\n",
    "from scipy.interpolate import interp1d\n",
    "from scipy.optimize import differential_evolution\n",
    "from scipy.optimize import least_squares\n",
    "from matplotlib.ticker import LinearLocator, FormatStrFormatter\n",
    "from scipy.stats import t\n",
    "from scipy.special import gamma\n",
    "from pynverse import inversefunc"
   ]
  },
  {
   "cell_type": "code",
   "execution_count": 22,
   "id": "bed16009",
   "metadata": {},
   "outputs": [],
   "source": [
    "    def bhattacharyya_distance(x, distribution1, distribution2):\n",
    "        \"\"\" Estimate Bhattacharyya Distance (between General Distributions)\n",
    "\n",
    "        Args:\n",
    "            distribution1: a sample distribution 1\n",
    "            distribution2: a sample distribution 2\n",
    "\n",
    "        Returns:\n",
    "            Bhattacharyya distance\n",
    "        \"\"\"\n",
    "        if len(distribution1) != len(distribution2):\n",
    "            raise Exception(\"Distribution 1 does not equal length of Distribution 2\")\n",
    "        DB = np.trapz(np.sqrt(distribution1*distribution2), x=x)\n",
    "        BD = -np.log(DB)\n",
    "        if BD < 0:\n",
    "            BD = 0\n",
    "        return BD"
   ]
  },
  {
   "cell_type": "code",
   "execution_count": 107,
   "id": "2aff0705",
   "metadata": {},
   "outputs": [],
   "source": [
    "# define our gaussian convolved-with-an-exp distribution\n",
    "class gaussexp_dist(stats.rv_continuous):\n",
    "    \n",
    "    def __init__(self, tau, amps, sigma, *args, **kwargs):\n",
    "        super().__init__(*args, **kwargs)\n",
    "        # init our variance\n",
    "        self.sigma = sigma\n",
    "        self.tau = np.nanmean(tau)\n",
    "        self.amps_n = np.array(np.divide(np.array(amps), np.sum(amps))) # make normalised array of amplitudes\n",
    "        self.amps_m = np.tile(self.amps_n, (1,1)) # make matrix of amps\n",
    "        self.k = np.tile(np.divide(1., tau), (1, 1))  # make matrix of ks\n",
    "        # init our cdf and ppf functions\n",
    "        self.cdf_func, self.ppf_func = self.create_cdf_ppf()\n",
    "        \n",
    "    # function to return gaussian-convolved exponential pdf\n",
    "    def expgauss_p(self, x):\n",
    "        # expgauss pdf function\n",
    "        # outputs normalised exponential convolved with gaussian \n",
    "        # ================INPUTS============= \n",
    "        # x ix data points to evaluate pdf\n",
    "        # ================OUTPUT============= \n",
    "        # simulated signal\n",
    "        erfterm = 1. + erf(np.divide(np.subtract(x, np.multiply(self.k.T, np.square(self.sigma))), np.sqrt(2)*self.sigma)) # create the error function term\n",
    "        gaussterm = np.exp(np.divide(np.multiply(np.square(self.k.T), np.square(self.sigma)), 2.)) # create the gaussian term\n",
    "        return np.nansum(np.multiply(np.divide(np.multiply(self.k, self.amps_m), 2.).T, np.multiply(np.multiply(np.exp(np.multiply(-self.k.T, x)), gaussterm), erfterm)), axis=0) # create the convolution\n",
    "    \n",
    "    # function to return gaussian-convolved exponential cdf       \n",
    "    def expgausscdf(self, x):\n",
    "        # expgauss cdf function\n",
    "        # outputs normalised exponential convolved with gaussian \n",
    "        # ================INPUTS============= \n",
    "        # x ix data points to evaluate pdf\n",
    "        # ================OUTPUT============= \n",
    "        # simulated signal\n",
    "        term0 = np.exp((np.square(self.k.T)*np.square(self.sigma))/2 - self.k.T*x)\n",
    "        term1 = (0.5)*np.exp((np.square(self.k.T)*np.square(self.sigma))/2 + self.k.T*(x - self.k.T*(np.square(self.sigma))))*erf(np.divide(x, np.sqrt(2)*self.sigma))\n",
    "        term2 = (0.5)*erf(np.divide(x - self.k.T*np.square(self.sigma), np.sqrt(2)*self.sigma))\n",
    "        cdf = self.amps_m.T*(0.5 + (term0*(term1 - term2 - 0.5)))\n",
    "        return np.squeeze(np.nansum(cdf, axis=0))\n",
    "    \n",
    "    def linlogscale(self, linstart, linend, logend, nlinpoints):\n",
    "        M = int(np.multiply(nlinpoints, np.add(1., np.log10(logend))))\n",
    "        linpoints = np.linspace(linstart, linend, nlinpoints)\n",
    "        logpoints = np.logspace(np.log10(linend + np.diff(linpoints)[-1]), np.log10(logend), M)\n",
    "        return np.hstack([linpoints, logpoints])\n",
    "    \n",
    "    # function to\n",
    "    def create_cdf_ppf(self):\n",
    "        # define domain as -20 sigma to +20 tau\n",
    "        xs = self.linlogscale(-20*self.sigma, 10*self.sigma, 20*self.tau, 500001)\n",
    "        # cumsum to form cdf\n",
    "        my_cdf = self.expgausscdf(xs)\n",
    "        # create cdf and ppf\n",
    "        func_cdf = lambda x: self.expgausscdf(x)\n",
    "        func_ppf = interp1d(my_cdf, xs, fill_value='extrapolate')\n",
    "        return func_cdf, func_ppf\n",
    "        \n",
    "    # pdf function for exp gauss\n",
    "    def _pdf(self, x):\n",
    "        return self.expgauss_p(x)\n",
    "    \n",
    "    # cdf function\n",
    "    def _cdf(self, x):\n",
    "        return self.cdf_func(x)\n",
    "    \n",
    "    # inverse cdf function\n",
    "    def _ppf(self, x):\n",
    "        return self.ppf_func(x)"
   ]
  },
  {
   "cell_type": "code",
   "execution_count": 108,
   "id": "a7861006",
   "metadata": {},
   "outputs": [
    {
     "data": {
      "text/plain": [
       "5000000.5"
      ]
     },
     "execution_count": 108,
     "metadata": {},
     "output_type": "execute_result"
    }
   ],
   "source": [
    "10000001/2"
   ]
  },
  {
   "cell_type": "code",
   "execution_count": 109,
   "id": "b353e451",
   "metadata": {},
   "outputs": [],
   "source": [
    "def linlogscale(linstart, linend, logend, nlinpoints):\n",
    "    M = int(np.multiply(nlinpoints, np.add(1., np.log10(logend))))\n",
    "    linpoints = np.linspace(linstart, linend, nlinpoints)\n",
    "    logpoints = np.logspace(np.log10(linend + np.diff(linpoints)[-1]), np.log10(logend), M)\n",
    "    return np.hstack([linpoints, logpoints])"
   ]
  },
  {
   "cell_type": "code",
   "execution_count": 110,
   "id": "0f3dbe22",
   "metadata": {},
   "outputs": [],
   "source": [
    "tau = 5\n",
    "amps = 1\n",
    "sigma = 0.1\n",
    "mydist = gaussexp_dist(tau, amps, sigma)"
   ]
  },
  {
   "cell_type": "code",
   "execution_count": 100,
   "id": "5a8e56f7",
   "metadata": {},
   "outputs": [
    {
     "name": "stdout",
     "output_type": "stream",
     "text": [
      "124 ms ± 400 µs per loop (mean ± std. dev. of 7 runs, 10 loops each)\n"
     ]
    }
   ],
   "source": []
  },
  {
   "cell_type": "code",
   "execution_count": 108,
   "id": "1157cf69",
   "metadata": {},
   "outputs": [],
   "source": [
    "    def expgauss(x, tau, sigma, mu, amps):\n",
    "        # expgauss function\n",
    "        # outputs normalised sum-of-exponentials convolved with gaussians \n",
    "        # ================INPUTS============= \n",
    "        # x ix data points to evaluate pdf\n",
    "        # tau is array of lifetimes (one gives mono-exponential, etc.)\n",
    "        # sigma is sigma of gaussian to convolve with exponential\n",
    "        # mu is centre of gaussian\n",
    "        # amps is amplitudes of taus\n",
    "        # ================OUTPUT============= \n",
    "        # simulated signal\n",
    "        amps_n = np.array(np.divide(np.array(amps), np.sum(amps))) # make normalised array of amplitudes\n",
    "        ampsm = np.tile(amps_n, (1,1)) # make matrix of amps\n",
    "        ksm = np.tile(np.divide(1., tau), (1, 1))  # make matrix of ks\n",
    "        erfterm = 1. + erf(np.divide(np.subtract(x, np.multiply(ksm.T, np.square(sigma))), np.sqrt(2)*sigma)) # create the error function term\n",
    "        gaussterm = np.exp(np.divide(np.multiply(np.square(ksm.T), np.square(sigma)), 2.)) # create the gaussian term\n",
    "        return np.nansum(np.multiply(np.divide(np.multiply(ksm, ampsm), 2.).T, np.multiply(np.multiply(np.exp(np.multiply(-ksm.T, x)), gaussterm), erfterm)), axis=0) # create the convolution\n"
   ]
  },
  {
   "cell_type": "code",
   "execution_count": null,
   "id": "916654ef",
   "metadata": {},
   "outputs": [],
   "source": [
    "def TCSPCsimulator(tau, nphotons, sbr, t):\n",
    "    # TCSPCsimulator function\n",
    "    # outputs TCSPC-type data of nphotons binned as would be in TCSPC technique\n",
    "    # ================INPUTS============= \n",
    "    # tau is lifetime\n",
    "    # nphotons is how many photons in total to simulate\n",
    "    # sbr is signal-to-background ratio (0 gives no background photons)\n",
    "    # t is bins in time\n",
    "    # ================OUTPUT============= \n",
    "    # histogram\n",
    "    if sbr == 0:\n",
    "        nsignal = int(nphotons)\n",
    "        nbackground = int(0)\n",
    "    else:\n",
    "        nbackground = int(nphotons/sbr) # get number of background photons\n",
    "        nsignal = int(nphotons - nbackground) # get number of signal photons\n",
    "    background, bins = np.histogram(np.random.rand(nbackground)*np.max(t), bins=t) # get background\n",
    "    signal, bins = np.histogram(np.random.exponential(tau, size=nsignal), bins=t) # get signal\n",
    "    if np.sum(signal) < nsignal:\n",
    "        while np.sum(signal) < nsignal:\n",
    "            defecit = nsignal - np.sum(signal)\n",
    "            signal2, bins = np.histogram(np.random.exponential(tau, size=defecit), bins=t) # get more signal\n",
    "            signal = signal + signal2\n",
    "    overall = signal + background\n",
    "    return overall"
   ]
  },
  {
   "cell_type": "code",
   "execution_count": 111,
   "id": "008a2ebd",
   "metadata": {},
   "outputs": [],
   "source": [
    "def expgauss(x, tau, sigma):\n",
    "    # expgauss function\n",
    "    # outputs normalised sum-of-exponentials convolved with gaussians \n",
    "    # ================INPUTS============= \n",
    "    # x ix data points to evaluate pdf\n",
    "    # tau is one lifetime\n",
    "    # sigma is sigma of gaussian to convolve with exponential\n",
    "    # ================OUTPUT============= \n",
    "    # simulated signal\n",
    "    ksm = np.tile(np.divide(1., tau), (1, 1))  # make matrix of ks\n",
    "    erfterm = 1. + erf(np.divide(np.subtract(x, np.multiply(ksm.T, np.square(sigma))), np.sqrt(2)*sigma))\n",
    "    gaussterm = np.exp(np.divide(np.multiply(np.square(ksm.T), np.square(sigma)), 2.))\n",
    "    return np.nansum(np.multiply(np.divide(np.multiply(1., ksm), 2.).T, np.multiply(np.multiply(np.exp(np.multiply(-ksm.T, x)), gaussterm), erfterm)), axis=0)"
   ]
  },
  {
   "cell_type": "markdown",
   "id": "275381f3",
   "metadata": {},
   "source": [
    "$\\exp((k^2 σ^2)/2 - k x) (1/2 \\exp((k^2 σ^2)/2 + k (x - k(σ^2))) \\mathrm{erf}((k σ^2 - k(σ^2) + x)/(\\sqrt{2} σ)) - 1/2 \\mathrm{erf}((x - k(σ^2))/(\\sqrt{2} σ)) - 1/2)$ + constant\n",
    "\n",
    "by induction constant is 0.5"
   ]
  },
  {
   "cell_type": "code",
   "execution_count": 112,
   "id": "ab75b64e",
   "metadata": {},
   "outputs": [],
   "source": [
    "def TCSPCsimulator_IRF(tau, sigma, nphotons, sbr, t):\n",
    "    # TCSPCsimulator function\n",
    "    # outputs TCSPC-type data of nphotons binned as would be in TCSPC technique\n",
    "    # ================INPUTS============= \n",
    "    # tau is lifetime\n",
    "    # sigma is width\n",
    "    # nphotons is how many photons in total to simulate\n",
    "    # sbr is signal-to-background ratio (0 gives no background photons)\n",
    "    # t is bins in time\n",
    "    # ================OUTPUT============= \n",
    "    # histogram\n",
    "    if sbr == 0:\n",
    "        nsignal = int(nphotons)\n",
    "        nbackground = int(0)\n",
    "    else:\n",
    "        nbackground = int(nphotons/sbr) # get number of background photons\n",
    "        nsignal = int(nphotons - nbackground) # get number of signal photons\n",
    "    my_dist = gaussexp_dist(tau, 1., sigma)    \n",
    "    background, bins = np.histogram(np.random.uniform(np.min(t), np.max(t), nbackground), bins=t) # get background\n",
    "    signal, bins = np.histogram(my_dist.rvs(size=nsignal), bins=t) # get signal\n",
    "    if np.sum(signal) < nsignal:\n",
    "        while np.sum(signal) < nsignal:\n",
    "            defecit = nsignal - np.sum(signal)\n",
    "            signal2, bins = np.histogram(my_dist.rvs(size=defecit), bins=t) # get more signal\n",
    "            signal = signal + signal2\n",
    "    overall = signal + background\n",
    "    return overall"
   ]
  },
  {
   "cell_type": "code",
   "execution_count": 114,
   "id": "630d158a",
   "metadata": {},
   "outputs": [
    {
     "data": {
      "image/png": "[encoded data removed]",
      "text/plain": [
       "<Figure size 640x480 with 1 Axes>"
      ]
     },
     "metadata": {},
     "output_type": "display_data"
    }
   ],
   "source": [
    "nphotons = 2000000\n",
    "tau = 1.6\n",
    "sigma = 0.5\n",
    "t_bins = np.linspace(-sigma*10, tau*15, int((tau*15)/0.016)+2);\n",
    "t = np.linspace(-sigma*10, tau*15, int((tau*15)/0.016)+1);\n",
    "sbr = 10\n",
    "test = TCSPCsimulator_IRF(tau, sigma, nphotons, sbr, t_bins)\n",
    "plt.scatter(t, test, alpha=0.5)\n",
    "b = 1./sbr\n",
    "a = 1 - b\n",
    "# a is exp, b is background\n",
    "fit = a*expgauss(t, tau, sigma) + b/(np.max(t) - np.min(t))\n",
    "fit = fit/np.sum(fit)\n",
    "fit = nphotons*fit\n",
    "plt.plot(t, fit, lw=2, color='k')\n",
    "plt.yscale('log')\n",
    "plt.xlim([-sigma*10, np.max(t)])\n",
    "plt.show(block=False)"
   ]
  },
  {
   "cell_type": "code",
   "execution_count": null,
   "id": "2561dd7c",
   "metadata": {},
   "outputs": [],
   "source": []
  }
 ],
 "metadata": {
  "kernelspec": {
   "display_name": "Python 3 (ipykernel)",
   "language": "python",
   "name": "python3"
  },
  "language_info": {
   "codemirror_mode": {
    "name": "ipython",
    "version": 3
   },
   "file_extension": ".py",
   "mimetype": "text/x-python",
   "name": "python",
   "nbconvert_exporter": "python",
   "pygments_lexer": "ipython3",
   "version": "3.10.6"
  }
 },
 "nbformat": 4,
 "nbformat_minor": 5
}
